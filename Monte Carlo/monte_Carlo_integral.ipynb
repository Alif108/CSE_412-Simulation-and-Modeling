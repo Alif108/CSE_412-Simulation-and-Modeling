{
 "cells": [
  {
   "cell_type": "code",
   "execution_count": 32,
   "metadata": {},
   "outputs": [],
   "source": [
    "import numpy as np\n",
    "import matplotlib.pyplot as plt"
   ]
  },
  {
   "attachments": {},
   "cell_type": "markdown",
   "metadata": {},
   "source": [
    "# Monte Carlo Integral\n",
    "If a function $f(x)$ is defined on the interval $[a,b]$, then the integral of $f(x)$ over the interval $[a,b]$ is defined as\n",
    "$$ F = \\int_a^b f(x)dx $$\n",
    "The integral of $f(x)$ over the interval $[a,b]$ is the area under the curve of $f(x)$ between $x=a$ and $x=b$."
   ]
  },
  {
   "cell_type": "code",
   "execution_count": 56,
   "metadata": {},
   "outputs": [
    {
     "data": {
      "image/png": "[encoded data removed]",
      "text/plain": [
       "<Figure size 432x288 with 1 Axes>"
      ]
     },
     "metadata": {
      "needs_background": "light"
     },
     "output_type": "display_data"
    }
   ],
   "source": [
    "def f(x):\n",
    "    return -x**3 + 6*x**2 -x + 17\n",
    "\n",
    "# plot the function between [-3, 6] and shade the area under the curve between x = -2 and x = 5\n",
    "x = np.linspace(-3, 6, 100)\n",
    "y = f(x)\n",
    "plt.plot(x, y)\n",
    "plt.fill_between(x, y, where=(x >= -2) & (x <= 5), color='orange', alpha=0.5)\n",
    "plt.show()"
   ]
  },
  {
   "attachments": {},
   "cell_type": "markdown",
   "metadata": {},
   "source": [
    "The integral of $f(x)$ over the interval $[a,b]$ can be approximated by taking a large number of random points in the interval $[a,b]$ and computing the average of the function values at those points. This is called the Monte Carlo method. The more points that are used, the more accurate the approximation."
   ]
  },
  {
   "cell_type": "code",
   "execution_count": 65,
   "metadata": {},
   "outputs": [
    {
     "data": {
      "image/png": "[encoded data removed]",
      "text/plain": [
       "<Figure size 432x288 with 1 Axes>"
      ]
     },
     "metadata": {
      "needs_background": "light"
     },
     "output_type": "display_data"
    }
   ],
   "source": [
    "x = np.linspace(-3, 6, 100)\n",
    "y = f(x)\n",
    "plt.plot(x, y)\n",
    "\n",
    "# take 5 random points between [-2, 5] and fill rectangles with height equal to the function value at that point and plot them in different colors\n",
    "for i in range(5):\n",
    "    x = np.random.uniform(-2, 5)\n",
    "    y = f(x)\n",
    "    plt.plot(x, y, 'ro')\n",
    "    plt.bar(x, y, width=7, color='C{}'.format(i), alpha=0.2)"
   ]
  },
  {
   "attachments": {},
   "cell_type": "markdown",
   "metadata": {},
   "source": [
    "So the Monte Carlo method for approximating the integral of $f(x)$ over the interval $[a,b]$ is as follows:\n",
    "1. Generate $N$ random points in the interval $[a,b]$.\n",
    "2. Compute the average of the function values at those points.\n",
    "3. Multiply the average by the length of the interval $[a,b]$.\n",
    "\n",
    "    $$ \\frac{1}{N} \\sum_{i=1}^N f(x_i) \\cdot (b-a) $$"
   ]
  },
  {
   "cell_type": "code",
   "execution_count": 2,
   "metadata": {},
   "outputs": [],
   "source": [
    "def estimate_integral(f, a, b, n):\n",
    "    \"\"\"Estimate the integral of f(x) from a to b using n samples.\"\"\"\n",
    "    x = np.random.uniform(a, b, n)\n",
    "    return (b - a) * np.mean(f(x))"
   ]
  },
  {
   "cell_type": "code",
   "execution_count": 21,
   "metadata": {},
   "outputs": [],
   "source": [
    "def test_estimate_integral(funct, a, b, n, exact, tol=1E-2):\n",
    "    \"\"\"Test the estimate_integral function.\"\"\"\n",
    "    est = estimate_integral(funct, a, b, n)\n",
    "    print(\"Estimate: \", est)\n",
    "    print(\"Exact: \", exact)\n",
    "    print(\"Error: \", abs(est - exact))\n",
    "    if abs(est - exact) < tol:\n",
    "        print(\"Test passed\")\n",
    "    else:\n",
    "        print(\"Test failed\")"
   ]
  },
  {
   "attachments": {},
   "cell_type": "markdown",
   "metadata": {},
   "source": [
    "### Test for sin(x)\n",
    "Let's test the Monte Carlo method for approximating the integral of $f(x) = \\sin(x)$ over the interval $[0, \\pi]$. The exact value of the integral is $2$."
   ]
  },
  {
   "cell_type": "code",
   "execution_count": 66,
   "metadata": {},
   "outputs": [
    {
     "name": "stdout",
     "output_type": "stream",
     "text": [
      "Estimate:  1.9959115172393296\n",
      "Exact:  2\n",
      "Error:  0.00408848276067042\n",
      "Test passed\n"
     ]
    }
   ],
   "source": [
    "test_estimate_integral(np.sin, 0, np.pi, 100000, 2)"
   ]
  },
  {
   "cell_type": "code",
   "execution_count": null,
   "metadata": {},
   "outputs": [],
   "source": []
  }
 ],
 "metadata": {
  "kernelspec": {
   "display_name": "Python 3",
   "language": "python",
   "name": "python3"
  },
  "language_info": {
   "codemirror_mode": {
    "name": "ipython",
    "version": 3
   },
   "file_extension": ".py",
   "mimetype": "text/x-python",
   "name": "python",
   "nbconvert_exporter": "python",
   "pygments_lexer": "ipython3",
   "version": "3.7.4"
  },
  "orig_nbformat": 4,
  "vscode": {
   "interpreter": {
    "hash": "ebe23dee3a652b1a649a1db8e2566ad6fae31353a6f524cb5d85b294e04ea6a1"
   }
  }
 },
 "nbformat": 4,
 "nbformat_minor": 2
}
