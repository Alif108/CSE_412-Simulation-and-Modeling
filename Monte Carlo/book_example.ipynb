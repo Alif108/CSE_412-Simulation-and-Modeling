{
 "cells": [
  {
   "cell_type": "code",
   "execution_count": 1,
   "metadata": {},
   "outputs": [],
   "source": [
    "import numpy as np\n",
    "import matplotlib.pyplot as plt"
   ]
  },
  {
   "attachments": {},
   "cell_type": "markdown",
   "metadata": {},
   "source": [
    "# Book Example 13.9"
   ]
  },
  {
   "cell_type": "code",
   "execution_count": 7,
   "metadata": {},
   "outputs": [],
   "source": [
    "components_mean_failure_time = np.array([10, 8, 7, 5, 6])"
   ]
  },
  {
   "cell_type": "code",
   "execution_count": 8,
   "metadata": {},
   "outputs": [
    {
     "data": {
      "text/plain": [
       "array([1.19236256, 0.95389004, 0.83465379, 0.59618128, 0.71541753])"
      ]
     },
     "execution_count": 8,
     "metadata": {},
     "output_type": "execute_result"
    }
   ],
   "source": [
    "# -beta * ln(U)\n",
    "components_failure_time = - components_mean_failure_time * np.log(np.random.uniform()) \n",
    "components_failure_time"
   ]
  },
  {
   "cell_type": "code",
   "execution_count": 15,
   "metadata": {},
   "outputs": [],
   "source": [
    "def get_system_failure_time(X):\n",
    "    Y = min(max(X[0], min(X[1], max(X[2], X[3]))), X[4])\n",
    "    return Y"
   ]
  },
  {
   "cell_type": "code",
   "execution_count": 21,
   "metadata": {},
   "outputs": [
    {
     "name": "stdout",
     "output_type": "stream",
     "text": [
      "Mean failure time:  5.913578861628017\n"
     ]
    }
   ],
   "source": [
    "Y = []\n",
    "for i in range(10000):\n",
    "    components_failure_time = - components_mean_failure_time * np.log(np.random.uniform())\n",
    "    Y.append(get_system_failure_time(components_failure_time))\n",
    "\n",
    "print(\"Mean failure time: \", np.mean(Y))"
   ]
  },
  {
   "cell_type": "code",
   "execution_count": 22,
   "metadata": {},
   "outputs": [
    {
     "name": "stdout",
     "output_type": "stream",
     "text": [
      "Probability of failure time > 7:  0.314\n"
     ]
    }
   ],
   "source": [
    "Y = []\n",
    "count = 0\n",
    "for i in range(10000):\n",
    "    components_failure_time = - components_mean_failure_time * np.log(np.random.uniform())\n",
    "    result = get_system_failure_time(components_failure_time)\n",
    "    if result > 7:\n",
    "        count += 1\n",
    "    Y.append(result)\n",
    "\n",
    "print(\"Probability of failure time > 7: \", count/len(Y))"
   ]
  },
  {
   "cell_type": "code",
   "execution_count": null,
   "metadata": {},
   "outputs": [],
   "source": []
  }
 ],
 "metadata": {
  "kernelspec": {
   "display_name": "Python 3",
   "language": "python",
   "name": "python3"
  },
  "language_info": {
   "codemirror_mode": {
    "name": "ipython",
    "version": 3
   },
   "file_extension": ".py",
   "mimetype": "text/x-python",
   "name": "python",
   "nbconvert_exporter": "python",
   "pygments_lexer": "ipython3",
   "version": "3.7.4"
  },
  "orig_nbformat": 4,
  "vscode": {
   "interpreter": {
    "hash": "ebe23dee3a652b1a649a1db8e2566ad6fae31353a6f524cb5d85b294e04ea6a1"
   }
  }
 },
 "nbformat": 4,
 "nbformat_minor": 2
}
