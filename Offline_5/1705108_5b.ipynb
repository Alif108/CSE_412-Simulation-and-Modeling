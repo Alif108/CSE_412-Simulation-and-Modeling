{
 "cells": [
  {
   "cell_type": "code",
   "execution_count": 114,
   "metadata": {},
   "outputs": [],
   "source": [
    "import numpy as np"
   ]
  },
  {
   "cell_type": "code",
   "execution_count": 126,
   "metadata": {},
   "outputs": [],
   "source": [
    "num_generations = 3\n",
    "num_iterations = 10000"
   ]
  },
  {
   "cell_type": "code",
   "execution_count": 127,
   "metadata": {},
   "outputs": [
    {
     "name": "stdout",
     "output_type": "stream",
     "text": [
      "[0.58828426 0.80088426 0.92616944 1.        ]\n"
     ]
    }
   ],
   "source": [
    "probs = []\n",
    "p0 =  0.4825                            # Given : p0 = 0.4825\n",
    "probs.append(p0)\n",
    "\n",
    "for i in range(3):\n",
    "    pi = 0.2126 * (0.5893**(i))         # Given : pi = 0.2126 * (0.5893**(i))\n",
    "    probs.append(pi)\n",
    "\n",
    "probs = np.array(probs)\n",
    "sum = np.sum(probs)\n",
    "probs[0] += 1 - sum                     # Adjusting the first element to make the sum of the array equal to 1\n",
    "\n",
    "cumulative_probs = np.cumsum(probs)\n",
    "print(cumulative_probs)"
   ]
  },
  {
   "cell_type": "code",
   "execution_count": 128,
   "metadata": {},
   "outputs": [],
   "source": [
    "def build_tree(num_generations, cumulative_probs):\n",
    "    num_parent_nodes = 1\n",
    "    num_child_nodes = 0\n",
    "\n",
    "    for gen in range(num_generations):                  # For each generation\n",
    "        for node in range(num_parent_nodes):            # For each parent node\n",
    "            u = np.random.uniform()                     # Generate a random number between 0 and 1\n",
    "            if u < cumulative_probs[0]:                 # If the random number is less than the first element of the cumulative probabilities array\n",
    "                num_child_nodes += 0                    # No child nodes\n",
    "            elif u < cumulative_probs[1]:               # If the random number is less than the second element of the cumulative probabilities array\n",
    "                num_child_nodes += 1                    # 1 child added\n",
    "            elif u < cumulative_probs[2]:               # If the random number is less than the third element of the cumulative probabilities array\n",
    "                num_child_nodes += 2                    # 2 children added\n",
    "            else:                                       # If the random number is greater than the third element of the cumulative probabilities array\n",
    "                num_child_nodes += 3                    # 3 children added\n",
    "        \n",
    "        num_parent_nodes = num_child_nodes              # The number of parent nodes is equal to the number of child nodes for the next generation\n",
    "        num_child_nodes = 0                             # Reset the number of child nodes to 0 for the next generation\n",
    "\n",
    "    return num_parent_nodes                             # Return the number of parent nodes for the last generation"
   ]
  },
  {
   "cell_type": "code",
   "execution_count": 129,
   "metadata": {},
   "outputs": [
    {
     "name": "stdout",
     "output_type": "stream",
     "text": [
      "Probaility of 0 children :  0.8585\n",
      "Probaility of 1 children :  0.0491\n",
      "Probaility of 2 children :  0.0427\n",
      "Probaility of 3 children :  0.029\n",
      "Probaility of 4 children :  0.0119\n"
     ]
    }
   ],
   "source": [
    "children_probs = np.zeros(5)                                            # Array to store the probabilities of the number of children : 0, 1, 2, 3, 4\n",
    "\n",
    "for i in range(num_iterations):                                         # For each iteration             \n",
    "    num_children = build_tree(num_generations, cumulative_probs)        # Build the tree and get the number of children for the last generation\n",
    "    if num_children == 0:                                               # If the number of children is 0\n",
    "        children_probs[0] += 1                                          # Increment the first element of the array by 1\n",
    "    elif num_children == 1:                                             # If the number of children is 1\n",
    "        children_probs[1] += 1                                          # Increment the second element of the array by 1\n",
    "    elif num_children == 2:                                             # If the number of children is 2\n",
    "        children_probs[2] += 1                                          # Increment the third element of the array by 1\n",
    "    elif num_children == 3:                                             # If the number of children is 3                     \n",
    "        children_probs[3] += 1                                          # Increment the fourth element of the array by 1\n",
    "    elif num_children == 4:                                             # If the number of children is 4\n",
    "        children_probs[4] += 1                                          # Increment the fifth element of the array by 1\n",
    "    else:                                                               # If the number of children is greater than 4\n",
    "        pass                                                            # Do nothing                                \n",
    "\n",
    "children_probs /= num_iterations                                        # Divide each element of the array by the number of iterations to get the probabilities\n",
    "\n",
    "print(\"Probaility of 0 children : \", children_probs[0])\n",
    "print(\"Probaility of 1 children : \", children_probs[1])\n",
    "print(\"Probaility of 2 children : \", children_probs[2])\n",
    "print(\"Probaility of 3 children : \", children_probs[3])\n",
    "print(\"Probaility of 4 children : \", children_probs[4])"
   ]
  },
  {
   "cell_type": "code",
   "execution_count": null,
   "metadata": {},
   "outputs": [],
   "source": []
  }
 ],
 "metadata": {
  "kernelspec": {
   "display_name": "Python 3",
   "language": "python",
   "name": "python3"
  },
  "language_info": {
   "codemirror_mode": {
    "name": "ipython",
    "version": 3
   },
   "file_extension": ".py",
   "mimetype": "text/x-python",
   "name": "python",
   "nbconvert_exporter": "python",
   "pygments_lexer": "ipython3",
   "version": "3.7.4"
  },
  "orig_nbformat": 4,
  "vscode": {
   "interpreter": {
    "hash": "ebe23dee3a652b1a649a1db8e2566ad6fae31353a6f524cb5d85b294e04ea6a1"
   }
  }
 },
 "nbformat": 4,
 "nbformat_minor": 2
}
