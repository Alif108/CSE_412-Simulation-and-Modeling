{
 "cells": [
  {
   "cell_type": "code",
   "execution_count": 35,
   "metadata": {},
   "outputs": [],
   "source": [
    "import matplotlib.pyplot as plt\n",
    "from scipy.interpolate import make_interp_spline\n",
    "import numpy as np"
   ]
  },
  {
   "cell_type": "code",
   "execution_count": 54,
   "metadata": {},
   "outputs": [],
   "source": [
    "def E(X, P):\n",
    "    \"\"\"\n",
    "    Expectation of a discrete random variable X with probability mass function P\n",
    "    Formula : sum(x*p)\n",
    "    \"\"\"\n",
    "    return sum([x*p for x, p in zip(X, P)])\n",
    "\n",
    "def var(X, P):\n",
    "    \"\"\"\n",
    "    Variance of a discrete random variable X with probability mass function P\n",
    "    Formula : E[X^2] - E[X]^2\n",
    "    \"\"\"\n",
    "    return E([x**2 for x in X], P) - E(X, P)**2\n",
    "\n",
    "def standard_deviation(X, P):\n",
    "    \"\"\"\n",
    "    Standard deviation of a discrete random variable X with probability mass function P\n",
    "    Formula : sqrt(var(X))\n",
    "    \"\"\"\n",
    "    return var(X, P)**0.5\n",
    "\n",
    "def covariance(X, P, Y, Q):\n",
    "    \"\"\"\n",
    "    Covariance of two discrete random variables X and Y with probability mass functions P and Q\n",
    "    Formula : E[XY] - E[X]E[Y]\n",
    "    \"\"\"\n",
    "    return E([x*y for x, y in zip(X, Y)], [p*q for p, q in zip(P, Q)]) - E(X, P)*E(Y, Q)\n",
    "\n",
    "def correlation(X, P, Y, Q):\n",
    "    \"\"\"\n",
    "    Correlation of two discrete random variables X and Y with probability mass functions P and Q\n",
    "    Formula : cov(X, Y) / (std(X) * std(Y))\n",
    "    \"\"\"\n",
    "    return covariance(X, P, Y, Q) / (standard_deviation(X, P) * standard_deviation(Y, Q))\n",
    "\n",
    "def median(X, P):\n",
    "    \"\"\"\n",
    "    Median of a discrete random variable X with probability mass function P\n",
    "    Formula : x such that P(X <= x) = 0.5\n",
    "    \"\"\"\n",
    "    P = np.cumsum(P)\n",
    "    for i, p in enumerate(P):\n",
    "        if p >= 0.5:\n",
    "            return X[i]\n",
    "\n",
    "def mode(X, P):\n",
    "    \"\"\"\n",
    "    Mode of a discrete random variable X with probability mass function P\n",
    "    Formula : x such that P(X = x) is maximum\n",
    "    \"\"\"\n",
    "    return X[np.argmax(P)]"
   ]
  },
  {
   "cell_type": "code",
   "execution_count": 55,
   "metadata": {},
   "outputs": [],
   "source": [
    "def plot(X, P, title=None, xlabel=None, ylabel=None):\n",
    "    \"\"\"\n",
    "    Plot a discrete random variable X with probability mass function P\n",
    "    \"\"\"\n",
    "    X_Y_Spline = make_interp_spline(X, P)\n",
    "    # Returns evenly spaced numbers\n",
    "    # over a specified interval.\n",
    "    X_ = np.linspace(X.min(), X.max(), 500)\n",
    "    Y_ = X_Y_Spline(X_)\n",
    "    \n",
    "    plt.plot(X_, Y_)\n",
    "    plt.scatter(E(X, P), 0, color='red', label='E(X)')\n",
    "    plt.scatter(median(X, P), 0, color='green', label='Median(X)')\n",
    "    plt.scatter(mode(X, P), 0, color='blue', label='Mode(X)')\n",
    "    plt.legend()\n",
    "\n",
    "    plt.title(title) \n",
    "    plt.xlabel(xlabel)\n",
    "    plt.ylabel(ylabel)\n",
    "    plt.show()"
   ]
  },
  {
   "cell_type": "code",
   "execution_count": 58,
   "metadata": {},
   "outputs": [
    {
     "name": "stdout",
     "output_type": "stream",
     "text": [
      "X =  [1 2 3 4]\n",
      "P(X) =  [0.16666667 0.33333333 0.33333333 0.16666667]\n",
      "\n",
      "Median =  2\n",
      "E[X] or mean(mu) =  2.5\n",
      "Mode =  2\n",
      "Var(X) =  0.9166666666666661\n",
      "Standard Deviation =  0.9574271077563378\n"
     ]
    }
   ],
   "source": [
    "X = np.array([1, 2, 3, 4])\n",
    "P = np.array([1/6, 1/3, 1/3, 1/6])\n",
    "\n",
    "print(\"X = \", X)\n",
    "print(\"P(X) = \", P)\n",
    "print()\n",
    "print(\"Median = \", median(X, P))\n",
    "print(\"E[X] or mean(mu) = \", E(X, P))\n",
    "print(\"Mode = \", mode(X, P))\n",
    "print(\"Var(X) = \", var(X, P))\n",
    "print(\"Standard Deviation = \", standard_deviation(X, P))"
   ]
  },
  {
   "cell_type": "code",
   "execution_count": 59,
   "metadata": {},
   "outputs": [
    {
     "data": {
      "image/png": "[encoded data removed]",
      "text/plain": [
       "<Figure size 432x288 with 1 Axes>"
      ]
     },
     "metadata": {
      "needs_background": "light"
     },
     "output_type": "display_data"
    }
   ],
   "source": [
    "plot(X, P, title=\"Discrete Random Variable\", xlabel=\"X\", ylabel=\"P(X)\")"
   ]
  }
 ],
 "metadata": {
  "kernelspec": {
   "display_name": "Python 3",
   "language": "python",
   "name": "python3"
  },
  "language_info": {
   "codemirror_mode": {
    "name": "ipython",
    "version": 3
   },
   "file_extension": ".py",
   "mimetype": "text/x-python",
   "name": "python",
   "nbconvert_exporter": "python",
   "pygments_lexer": "ipython3",
   "version": "3.7.4"
  },
  "orig_nbformat": 4,
  "vscode": {
   "interpreter": {
    "hash": "ebe23dee3a652b1a649a1db8e2566ad6fae31353a6f524cb5d85b294e04ea6a1"
   }
  }
 },
 "nbformat": 4,
 "nbformat_minor": 2
}
